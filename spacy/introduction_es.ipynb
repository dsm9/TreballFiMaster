{
 "cells": [
  {
   "cell_type": "code",
   "execution_count": 1,
   "metadata": {},
   "outputs": [],
   "source": [
    "# pip install -U spacy\n",
    "# python -m spacy download es_core_news_sm\n",
    "\n",
    "import spacy\n",
    "from spacy.symbols import nsubj, VERB\n",
    "from spacy import displacy\n",
    "\n",
    "\n",
    "# Load English tokenizer, tagger, parser, NER and word vectors\n",
    "nlp = spacy.load(\"es_core_news_sm\")\n",
    "    "
   ]
  },
  {
   "cell_type": "code",
   "execution_count": 2,
   "metadata": {},
   "outputs": [],
   "source": [
    "# Process whole documents\n",
    "#Escasa participación de la profesora que ni siquiera ha preparardo unidades didácticas. \n",
    "#Se ha limitado a colgar una ley ( en una versión antigua, por cierto) \n",
    "#y dos comunicaciones ( una ni siquiera tenía mucho que ver con la asignatura)\n",
    "#y a decirnos qué actividades deberíamos realizar sin explicar la materia, sin conceptualizaciones,\n",
    "#sin indicaciones concretas. \n",
    "#No se han ido facilitando las correcciones de las materias, cosa que sería interesante \n",
    "#para ir sabiendo en la siguiente actividad en qué podemos mejorar. \n",
    "#La presencia de la profesora ha sido casi nula. No ha dado instrucciones para ordenar \n",
    "#el foro de la última actividad, no ha enviado ni un sólo mensaje al foro...\n",
    "#ha estado muy ausente durante toda la materia. 77\n",
    "text = (u\"Escasa participación de la profesora Josefina Hernández que ni siquiera ha preparado unidades didácticas. \"\n",
    "       \"No se han ido facilitando las correcciones de las materias\")\n",
    "\n",
    "doc = nlp(text)\n"
   ]
  },
  {
   "cell_type": "code",
   "execution_count": 3,
   "metadata": {},
   "outputs": [
    {
     "name": "stdout",
     "output_type": "stream",
     "text": [
      "[u'Escasa', u'participaci\\xf3n', u'de', u'la', u'profesora', u'Josefina', u'Hern\\xe1ndez', u'que', u'ni', u'siquiera', u'ha', u'preparado', u'unidades', u'did\\xe1cticas', u'.', u'No', u'se', u'han', u'ido', u'facilitando', u'las', u'correcciones', u'de', u'las', u'materias']\n"
     ]
    }
   ],
   "source": [
    "# Word decomposition\n",
    "print([(w.text) for w in doc])\n"
   ]
  },
  {
   "cell_type": "code",
   "execution_count": 4,
   "metadata": {},
   "outputs": [
    {
     "name": "stdout",
     "output_type": "stream",
     "text": [
      "(u'Escasa', u'ADJ', u'ADJ__Gender=Fem|Number=Sing', u'amod', u'Xxxxx', True, False)\n",
      "(u'participaci\\xf3n', u'NOUN', u'NOUN__Gender=Fem|Number=Sing', u'ROOT', u'xxxx', True, False)\n",
      "(u'de', u'ADP', u'ADP__AdpType=Prep', u'case', u'xx', True, True)\n",
      "(u'la', u'DET', u'DET__Definite=Def|Gender=Fem|Number=Sing|PronType=Art', u'det', u'xx', True, True)\n",
      "(u'profesora', u'NOUN', u'NOUN__Gender=Fem|Number=Sing', u'nmod', u'xxxx', True, False)\n",
      "(u'Josefina', u'PROPN', u'PROPN', u'appos', u'Xxxxx', True, False)\n",
      "(u'Hern\\xe1ndez', u'PROPN', u'PROPN', u'flat', u'Xxxxx', True, False)\n",
      "(u'que', u'SCONJ', u'PRON__PronType=Int,Rel', u'nsubj', u'xxx', True, True)\n",
      "(u'ni', u'CCONJ', u'CCONJ', u'advmod', u'xx', True, True)\n",
      "(u'siquiera', u'INTJ', u'NOUN', u'fixed', u'xxxx', True, False)\n",
      "(u'ha', u'AUX', u'AUX__Mood=Ind|Number=Sing|Person=3|Tense=Pres|VerbForm=Fin', u'aux', u'xx', True, True)\n",
      "(u'preparado', u'VERB', u'VERB__Gender=Masc|Number=Sing|Tense=Past|VerbForm=Part', u'acl', u'xxxx', True, False)\n",
      "(u'unidades', u'NOUN', u'NOUN__Gender=Fem|Number=Plur', u'obj', u'xxxx', True, False)\n",
      "(u'did\\xe1cticas', u'ADJ', u'ADJ__Gender=Fem|Number=Plur', u'amod', u'xxxx', True, False)\n",
      "(u'.', u'PUNCT', u'PUNCT__PunctType=Peri', u'punct', u'.', False, False)\n",
      "(u'No', u'ADV', u'ADV__Polarity=Neg', u'advmod', u'Xx', True, True)\n",
      "(u'se', u'PRON', u'PRON__Case=Acc,Dat|Person=3|PrepCase=Npr|PronType=Prs|Reflex=Yes', u'obj', u'xx', True, True)\n",
      "(u'han', u'VERB', u'AUX__Mood=Ind|Number=Plur|Person=3|Tense=Pres|VerbForm=Fin', u'aux', u'xxx', True, True)\n",
      "(u'ido', u'VERB', u'AUX__Gender=Masc|Number=Sing|Tense=Past|VerbForm=Part', u'aux', u'xxx', True, False)\n",
      "(u'facilitando', u'VERB', u'VERB__VerbForm=Ger', u'ROOT', u'xxxx', True, False)\n",
      "(u'las', u'DET', u'DET__Definite=Def|Gender=Fem|Number=Plur|PronType=Art', u'det', u'xxx', True, True)\n",
      "(u'correcciones', u'NOUN', u'NOUN__Gender=Fem|Number=Plur', u'nsubj', u'xxxx', True, False)\n",
      "(u'de', u'ADP', u'ADP__AdpType=Prep', u'case', u'xx', True, True)\n",
      "(u'las', u'DET', u'DET__Definite=Def|Gender=Fem|Number=Plur|PronType=Art', u'det', u'xxx', True, True)\n",
      "(u'materias', u'NOUN', u'NOUN__Gender=Fem|Number=Plur', u'nmod', u'xxxx', True, False)\n"
     ]
    }
   ],
   "source": [
    "# Part of speech tagging\n",
    "for token in doc:\n",
    "    print(token.text, token.pos_, token.tag_, token.dep_,\n",
    "            token.shape_, token.is_alpha, token.is_stop)\n"
   ]
  },
  {
   "cell_type": "markdown",
   "metadata": {},
   "source": [
    "text\tunicode\tVerbatim text content.\n",
    "\n",
    "pos_\tunicode\tCoarse-grained part-of-speech from the Universal POS tag set.\n",
    "\n",
    "tag_\tunicode\tFine-grained part-of-speech.\n",
    "\n",
    "dep_\tunicode\tSyntactic dependency relation.\n",
    "\n",
    "is_alpha\tbool\tDoes the token consist of alphabetic characters?\n",
    "\n",
    "is_stop\tbool\tIs the token part of a “stop list”?"
   ]
  },
  {
   "cell_type": "markdown",
   "metadata": {},
   "source": [
    "Universal POS tags:\n",
    "\n",
    "    ADJ: adjective\n",
    "    ADP: adposition\n",
    "    ADV: adverb\n",
    "    AUX: auxiliary verb\n",
    "    CONJ: coordinating conjunction\n",
    "    DET: determiner\n",
    "    INTJ: interjection\n",
    "    NOUN: noun\n",
    "    NUM: numeral\n",
    "    PART: particle\n",
    "    PRON: pronoun\n",
    "    PROPN: proper noun\n",
    "    PUNCT: punctuation\n",
    "    SCONJ: subordinating conjunction\n",
    "    SYM: symbol\n",
    "    VERB: verb\n",
    "    X: other\n"
   ]
  },
  {
   "cell_type": "code",
   "execution_count": 5,
   "metadata": {},
   "outputs": [
    {
     "name": "stdout",
     "output_type": "stream",
     "text": [
      "(u'Josefina Hern\\xe1ndez', u'PER')\n",
      "(u'No se han ido', u'MISC')\n"
     ]
    }
   ],
   "source": [
    "# Find named entities, phrases and concepts\n",
    "for entity in doc.ents:\n",
    "    print(entity.text, entity.label_)"
   ]
  },
  {
   "cell_type": "code",
   "execution_count": 6,
   "metadata": {},
   "outputs": [
    {
     "name": "stdout",
     "output_type": "stream",
     "text": [
      "(u'participaci\\xf3n', u'participaci\\xf3n', u'ROOT', u'participaci\\xf3n')\n",
      "(u'la profesora', u'profesora', u'nmod', u'participaci\\xf3n')\n",
      "(u'Josefina Hern\\xe1ndez', u'Josefina', u'appos', u'profesora')\n",
      "(u'unidades', u'unidades', u'obj', u'preparado')\n",
      "(u'se', u'se', u'obj', u'facilitando')\n",
      "(u'las correcciones', u'correcciones', u'nsubj', u'facilitando')\n",
      "(u'las materias', u'materias', u'nmod', u'correcciones')\n"
     ]
    }
   ],
   "source": [
    "# Noun chunks\n",
    "for chunk in doc.noun_chunks:\n",
    "    print(chunk.text, chunk.root.text, chunk.root.dep_,\n",
    "            chunk.root.head.text)"
   ]
  },
  {
   "cell_type": "code",
   "execution_count": 7,
   "metadata": {},
   "outputs": [
    {
     "name": "stdout",
     "output_type": "stream",
     "text": [
      "(u'Escasa', u'amod', u'participaci\\xf3n', u'NOUN', [])\n",
      "(u'participaci\\xf3n', u'ROOT', u'participaci\\xf3n', u'NOUN', [Escasa, profesora, preparado, .])\n",
      "(u'de', u'case', u'profesora', u'NOUN', [])\n",
      "(u'la', u'det', u'profesora', u'NOUN', [])\n",
      "(u'profesora', u'nmod', u'participaci\\xf3n', u'NOUN', [de, la, Josefina])\n",
      "(u'Josefina', u'appos', u'profesora', u'NOUN', [Hernández])\n",
      "(u'Hern\\xe1ndez', u'flat', u'Josefina', u'PROPN', [])\n",
      "(u'que', u'nsubj', u'preparado', u'VERB', [])\n",
      "(u'ni', u'advmod', u'preparado', u'VERB', [siquiera])\n",
      "(u'siquiera', u'fixed', u'ni', u'CCONJ', [])\n",
      "(u'ha', u'aux', u'preparado', u'VERB', [])\n",
      "(u'preparado', u'acl', u'participaci\\xf3n', u'NOUN', [que, ni, ha, unidades])\n",
      "(u'unidades', u'obj', u'preparado', u'VERB', [didácticas])\n",
      "(u'did\\xe1cticas', u'amod', u'unidades', u'NOUN', [])\n",
      "(u'.', u'punct', u'participaci\\xf3n', u'NOUN', [])\n",
      "(u'No', u'advmod', u'facilitando', u'VERB', [])\n",
      "(u'se', u'obj', u'facilitando', u'VERB', [])\n",
      "(u'han', u'aux', u'facilitando', u'VERB', [])\n",
      "(u'ido', u'aux', u'facilitando', u'VERB', [])\n",
      "(u'facilitando', u'ROOT', u'facilitando', u'VERB', [No, se, han, ido, correcciones])\n",
      "(u'las', u'det', u'correcciones', u'NOUN', [])\n",
      "(u'correcciones', u'nsubj', u'facilitando', u'VERB', [las, materias])\n",
      "(u'de', u'case', u'materias', u'NOUN', [])\n",
      "(u'las', u'det', u'materias', u'NOUN', [])\n",
      "(u'materias', u'nmod', u'correcciones', u'NOUN', [de, las])\n"
     ]
    }
   ],
   "source": [
    "# Navigating the parse tree\n",
    "for token in doc:\n",
    "    print(token.text, token.dep_, token.head.text, token.head.pos_,\n",
    "            [child for child in token.children])"
   ]
  },
  {
   "cell_type": "code",
   "execution_count": 8,
   "metadata": {},
   "outputs": [
    {
     "name": "stdout",
     "output_type": "stream",
     "text": [
      "set([preparado, facilitando])\n"
     ]
    }
   ],
   "source": [
    "# Finding a verb with a subject from below — good\n",
    "verbs = set()\n",
    "for possible_subject in doc:\n",
    "    if possible_subject.dep == nsubj and possible_subject.head.pos == VERB:\n",
    "        verbs.add(possible_subject.head)\n",
    "print(verbs)"
   ]
  },
  {
   "cell_type": "code",
   "execution_count": 9,
   "metadata": {},
   "outputs": [
    {
     "name": "stdout",
     "output_type": "stream",
     "text": [
      "(u'Escasa', u'amod', 0, 0, [u'participaci\\xf3n'])\n"
     ]
    }
   ],
   "source": [
    "root = [token for token in doc if token.head == token][0]\n",
    "subject = list(root.lefts)[0]\n",
    "for descendant in subject.subtree:\n",
    "    assert subject is descendant or subject.is_ancestor(descendant)\n",
    "    print(descendant.text, descendant.dep_, descendant.n_lefts,\n",
    "            descendant.n_rights,\n",
    "            [ancestor.text for ancestor in descendant.ancestors])"
   ]
  },
  {
   "cell_type": "code",
   "execution_count": 10,
   "metadata": {},
   "outputs": [
    {
     "name": "stdout",
     "output_type": "stream",
     "text": [
      "[(u'Josefina Hern\\xe1ndez', 37, 55, u'PER'), (u'No se han ido', 106, 119, u'MISC')]\n"
     ]
    }
   ],
   "source": [
    "# Accessing entity annotations\n",
    "ents = [(e.text, e.start_char, e.end_char, e.label_) for e in doc.ents]\n",
    "print(ents)\n"
   ]
  },
  {
   "cell_type": "code",
   "execution_count": 11,
   "metadata": {},
   "outputs": [
    {
     "data": {
      "text/html": [
       "<span class=\"tex2jax_ignore\"><div class=\"entities\" style=\"line-height: 2.5; direction: ltr\">Escasa participación de la profesora \n",
       "<mark class=\"entity\" style=\"background: #ddd; padding: 0.45em 0.6em; margin: 0 0.25em; line-height: 1; border-radius: 0.35em;\">\n",
       "    Josefina Hernández\n",
       "    <span style=\"font-size: 0.8em; font-weight: bold; line-height: 1; border-radius: 0.35em; text-transform: uppercase; vertical-align: middle; margin-left: 0.5rem\">PER</span>\n",
       "</mark>\n",
       " que ni siquiera ha preparado unidades didácticas. \n",
       "<mark class=\"entity\" style=\"background: #ddd; padding: 0.45em 0.6em; margin: 0 0.25em; line-height: 1; border-radius: 0.35em;\">\n",
       "    No se han ido\n",
       "    <span style=\"font-size: 0.8em; font-weight: bold; line-height: 1; border-radius: 0.35em; text-transform: uppercase; vertical-align: middle; margin-left: 0.5rem\">MISC</span>\n",
       "</mark>\n",
       " facilitando las correcciones de las materias</div></span>"
      ],
      "text/plain": [
       "<IPython.core.display.HTML object>"
      ]
     },
     "metadata": {},
     "output_type": "display_data"
    }
   ],
   "source": [
    "displacy.render(doc, style=\"ent\")"
   ]
  },
  {
   "cell_type": "code",
   "execution_count": 12,
   "metadata": {},
   "outputs": [
    {
     "data": {
      "text/html": [
       "<span class=\"tex2jax_ignore\"><svg xmlns=\"http://www.w3.org/2000/svg\" xmlns:xlink=\"http://www.w3.org/1999/xlink\" xml:lang=\"es\" id=\"3a7a2b425f11455793aacbca1b59f700-0\" class=\"displacy\" width=\"4250\" height=\"572\" direction=\"ltr\" style=\"max-width: none; height: 572px; color: #000000; background: #ffffff; font-family: Arial; direction: ltr\">\n",
       "<text class=\"displacy-token\" fill=\"currentColor\" text-anchor=\"middle\" y=\"482\">\n",
       "    <tspan class=\"displacy-word\" fill=\"currentColor\" x=\"50\">Escasa</tspan>\n",
       "    <tspan class=\"displacy-tag\" dy=\"2em\" fill=\"currentColor\" x=\"50\">ADJ</tspan>\n",
       "</text>\n",
       "\n",
       "<text class=\"displacy-token\" fill=\"currentColor\" text-anchor=\"middle\" y=\"482\">\n",
       "    <tspan class=\"displacy-word\" fill=\"currentColor\" x=\"225\">participación</tspan>\n",
       "    <tspan class=\"displacy-tag\" dy=\"2em\" fill=\"currentColor\" x=\"225\">NOUN</tspan>\n",
       "</text>\n",
       "\n",
       "<text class=\"displacy-token\" fill=\"currentColor\" text-anchor=\"middle\" y=\"482\">\n",
       "    <tspan class=\"displacy-word\" fill=\"currentColor\" x=\"400\">de</tspan>\n",
       "    <tspan class=\"displacy-tag\" dy=\"2em\" fill=\"currentColor\" x=\"400\">ADP</tspan>\n",
       "</text>\n",
       "\n",
       "<text class=\"displacy-token\" fill=\"currentColor\" text-anchor=\"middle\" y=\"482\">\n",
       "    <tspan class=\"displacy-word\" fill=\"currentColor\" x=\"575\">la</tspan>\n",
       "    <tspan class=\"displacy-tag\" dy=\"2em\" fill=\"currentColor\" x=\"575\">DET</tspan>\n",
       "</text>\n",
       "\n",
       "<text class=\"displacy-token\" fill=\"currentColor\" text-anchor=\"middle\" y=\"482\">\n",
       "    <tspan class=\"displacy-word\" fill=\"currentColor\" x=\"750\">profesora</tspan>\n",
       "    <tspan class=\"displacy-tag\" dy=\"2em\" fill=\"currentColor\" x=\"750\">NOUN</tspan>\n",
       "</text>\n",
       "\n",
       "<text class=\"displacy-token\" fill=\"currentColor\" text-anchor=\"middle\" y=\"482\">\n",
       "    <tspan class=\"displacy-word\" fill=\"currentColor\" x=\"925\">Josefina</tspan>\n",
       "    <tspan class=\"displacy-tag\" dy=\"2em\" fill=\"currentColor\" x=\"925\">PROPN</tspan>\n",
       "</text>\n",
       "\n",
       "<text class=\"displacy-token\" fill=\"currentColor\" text-anchor=\"middle\" y=\"482\">\n",
       "    <tspan class=\"displacy-word\" fill=\"currentColor\" x=\"1100\">Hernández</tspan>\n",
       "    <tspan class=\"displacy-tag\" dy=\"2em\" fill=\"currentColor\" x=\"1100\">PROPN</tspan>\n",
       "</text>\n",
       "\n",
       "<text class=\"displacy-token\" fill=\"currentColor\" text-anchor=\"middle\" y=\"482\">\n",
       "    <tspan class=\"displacy-word\" fill=\"currentColor\" x=\"1275\">que</tspan>\n",
       "    <tspan class=\"displacy-tag\" dy=\"2em\" fill=\"currentColor\" x=\"1275\">SCONJ</tspan>\n",
       "</text>\n",
       "\n",
       "<text class=\"displacy-token\" fill=\"currentColor\" text-anchor=\"middle\" y=\"482\">\n",
       "    <tspan class=\"displacy-word\" fill=\"currentColor\" x=\"1450\">ni</tspan>\n",
       "    <tspan class=\"displacy-tag\" dy=\"2em\" fill=\"currentColor\" x=\"1450\">CCONJ</tspan>\n",
       "</text>\n",
       "\n",
       "<text class=\"displacy-token\" fill=\"currentColor\" text-anchor=\"middle\" y=\"482\">\n",
       "    <tspan class=\"displacy-word\" fill=\"currentColor\" x=\"1625\">siquiera</tspan>\n",
       "    <tspan class=\"displacy-tag\" dy=\"2em\" fill=\"currentColor\" x=\"1625\">INTJ</tspan>\n",
       "</text>\n",
       "\n",
       "<text class=\"displacy-token\" fill=\"currentColor\" text-anchor=\"middle\" y=\"482\">\n",
       "    <tspan class=\"displacy-word\" fill=\"currentColor\" x=\"1800\">ha</tspan>\n",
       "    <tspan class=\"displacy-tag\" dy=\"2em\" fill=\"currentColor\" x=\"1800\">AUX</tspan>\n",
       "</text>\n",
       "\n",
       "<text class=\"displacy-token\" fill=\"currentColor\" text-anchor=\"middle\" y=\"482\">\n",
       "    <tspan class=\"displacy-word\" fill=\"currentColor\" x=\"1975\">preparado</tspan>\n",
       "    <tspan class=\"displacy-tag\" dy=\"2em\" fill=\"currentColor\" x=\"1975\">VERB</tspan>\n",
       "</text>\n",
       "\n",
       "<text class=\"displacy-token\" fill=\"currentColor\" text-anchor=\"middle\" y=\"482\">\n",
       "    <tspan class=\"displacy-word\" fill=\"currentColor\" x=\"2150\">unidades</tspan>\n",
       "    <tspan class=\"displacy-tag\" dy=\"2em\" fill=\"currentColor\" x=\"2150\">NOUN</tspan>\n",
       "</text>\n",
       "\n",
       "<text class=\"displacy-token\" fill=\"currentColor\" text-anchor=\"middle\" y=\"482\">\n",
       "    <tspan class=\"displacy-word\" fill=\"currentColor\" x=\"2325\">didácticas.</tspan>\n",
       "    <tspan class=\"displacy-tag\" dy=\"2em\" fill=\"currentColor\" x=\"2325\">ADJ</tspan>\n",
       "</text>\n",
       "\n",
       "<text class=\"displacy-token\" fill=\"currentColor\" text-anchor=\"middle\" y=\"482\">\n",
       "    <tspan class=\"displacy-word\" fill=\"currentColor\" x=\"2500\">No</tspan>\n",
       "    <tspan class=\"displacy-tag\" dy=\"2em\" fill=\"currentColor\" x=\"2500\">ADV</tspan>\n",
       "</text>\n",
       "\n",
       "<text class=\"displacy-token\" fill=\"currentColor\" text-anchor=\"middle\" y=\"482\">\n",
       "    <tspan class=\"displacy-word\" fill=\"currentColor\" x=\"2675\">se</tspan>\n",
       "    <tspan class=\"displacy-tag\" dy=\"2em\" fill=\"currentColor\" x=\"2675\">PRON</tspan>\n",
       "</text>\n",
       "\n",
       "<text class=\"displacy-token\" fill=\"currentColor\" text-anchor=\"middle\" y=\"482\">\n",
       "    <tspan class=\"displacy-word\" fill=\"currentColor\" x=\"2850\">han</tspan>\n",
       "    <tspan class=\"displacy-tag\" dy=\"2em\" fill=\"currentColor\" x=\"2850\">VERB</tspan>\n",
       "</text>\n",
       "\n",
       "<text class=\"displacy-token\" fill=\"currentColor\" text-anchor=\"middle\" y=\"482\">\n",
       "    <tspan class=\"displacy-word\" fill=\"currentColor\" x=\"3025\">ido</tspan>\n",
       "    <tspan class=\"displacy-tag\" dy=\"2em\" fill=\"currentColor\" x=\"3025\">VERB</tspan>\n",
       "</text>\n",
       "\n",
       "<text class=\"displacy-token\" fill=\"currentColor\" text-anchor=\"middle\" y=\"482\">\n",
       "    <tspan class=\"displacy-word\" fill=\"currentColor\" x=\"3200\">facilitando</tspan>\n",
       "    <tspan class=\"displacy-tag\" dy=\"2em\" fill=\"currentColor\" x=\"3200\">VERB</tspan>\n",
       "</text>\n",
       "\n",
       "<text class=\"displacy-token\" fill=\"currentColor\" text-anchor=\"middle\" y=\"482\">\n",
       "    <tspan class=\"displacy-word\" fill=\"currentColor\" x=\"3375\">las</tspan>\n",
       "    <tspan class=\"displacy-tag\" dy=\"2em\" fill=\"currentColor\" x=\"3375\">DET</tspan>\n",
       "</text>\n",
       "\n",
       "<text class=\"displacy-token\" fill=\"currentColor\" text-anchor=\"middle\" y=\"482\">\n",
       "    <tspan class=\"displacy-word\" fill=\"currentColor\" x=\"3550\">correcciones</tspan>\n",
       "    <tspan class=\"displacy-tag\" dy=\"2em\" fill=\"currentColor\" x=\"3550\">NOUN</tspan>\n",
       "</text>\n",
       "\n",
       "<text class=\"displacy-token\" fill=\"currentColor\" text-anchor=\"middle\" y=\"482\">\n",
       "    <tspan class=\"displacy-word\" fill=\"currentColor\" x=\"3725\">de</tspan>\n",
       "    <tspan class=\"displacy-tag\" dy=\"2em\" fill=\"currentColor\" x=\"3725\">ADP</tspan>\n",
       "</text>\n",
       "\n",
       "<text class=\"displacy-token\" fill=\"currentColor\" text-anchor=\"middle\" y=\"482\">\n",
       "    <tspan class=\"displacy-word\" fill=\"currentColor\" x=\"3900\">las</tspan>\n",
       "    <tspan class=\"displacy-tag\" dy=\"2em\" fill=\"currentColor\" x=\"3900\">DET</tspan>\n",
       "</text>\n",
       "\n",
       "<text class=\"displacy-token\" fill=\"currentColor\" text-anchor=\"middle\" y=\"482\">\n",
       "    <tspan class=\"displacy-word\" fill=\"currentColor\" x=\"4075\">materias</tspan>\n",
       "    <tspan class=\"displacy-tag\" dy=\"2em\" fill=\"currentColor\" x=\"4075\">NOUN</tspan>\n",
       "</text>\n",
       "\n",
       "<g class=\"displacy-arrow\">\n",
       "    <path class=\"displacy-arc\" id=\"arrow-3a7a2b425f11455793aacbca1b59f700-0-0\" stroke-width=\"2px\" d=\"M70,437 C70,350 205,350 205,437\" fill=\"none\" stroke=\"currentColor\"/>\n",
       "    <text dy=\"1.25em\" style=\"font-size: 0.8em; letter-spacing: 1px\">\n",
       "        <textPath xlink:href=\"#arrow-3a7a2b425f11455793aacbca1b59f700-0-0\" class=\"displacy-label\" startOffset=\"50%\" side=\"left\" fill=\"currentColor\" text-anchor=\"middle\">amod</textPath>\n",
       "    </text>\n",
       "    <path class=\"displacy-arrowhead\" d=\"M70,439 L62,427 78,427\" fill=\"currentColor\"/>\n",
       "</g>\n",
       "\n",
       "<g class=\"displacy-arrow\">\n",
       "    <path class=\"displacy-arc\" id=\"arrow-3a7a2b425f11455793aacbca1b59f700-0-1\" stroke-width=\"2px\" d=\"M420,437 C420,262 735,262 735,437\" fill=\"none\" stroke=\"currentColor\"/>\n",
       "    <text dy=\"1.25em\" style=\"font-size: 0.8em; letter-spacing: 1px\">\n",
       "        <textPath xlink:href=\"#arrow-3a7a2b425f11455793aacbca1b59f700-0-1\" class=\"displacy-label\" startOffset=\"50%\" side=\"left\" fill=\"currentColor\" text-anchor=\"middle\">case</textPath>\n",
       "    </text>\n",
       "    <path class=\"displacy-arrowhead\" d=\"M420,439 L412,427 428,427\" fill=\"currentColor\"/>\n",
       "</g>\n",
       "\n",
       "<g class=\"displacy-arrow\">\n",
       "    <path class=\"displacy-arc\" id=\"arrow-3a7a2b425f11455793aacbca1b59f700-0-2\" stroke-width=\"2px\" d=\"M595,437 C595,350 730,350 730,437\" fill=\"none\" stroke=\"currentColor\"/>\n",
       "    <text dy=\"1.25em\" style=\"font-size: 0.8em; letter-spacing: 1px\">\n",
       "        <textPath xlink:href=\"#arrow-3a7a2b425f11455793aacbca1b59f700-0-2\" class=\"displacy-label\" startOffset=\"50%\" side=\"left\" fill=\"currentColor\" text-anchor=\"middle\">det</textPath>\n",
       "    </text>\n",
       "    <path class=\"displacy-arrowhead\" d=\"M595,439 L587,427 603,427\" fill=\"currentColor\"/>\n",
       "</g>\n",
       "\n",
       "<g class=\"displacy-arrow\">\n",
       "    <path class=\"displacy-arc\" id=\"arrow-3a7a2b425f11455793aacbca1b59f700-0-3\" stroke-width=\"2px\" d=\"M245,437 C245,175 740,175 740,437\" fill=\"none\" stroke=\"currentColor\"/>\n",
       "    <text dy=\"1.25em\" style=\"font-size: 0.8em; letter-spacing: 1px\">\n",
       "        <textPath xlink:href=\"#arrow-3a7a2b425f11455793aacbca1b59f700-0-3\" class=\"displacy-label\" startOffset=\"50%\" side=\"left\" fill=\"currentColor\" text-anchor=\"middle\">nmod</textPath>\n",
       "    </text>\n",
       "    <path class=\"displacy-arrowhead\" d=\"M740,439 L748,427 732,427\" fill=\"currentColor\"/>\n",
       "</g>\n",
       "\n",
       "<g class=\"displacy-arrow\">\n",
       "    <path class=\"displacy-arc\" id=\"arrow-3a7a2b425f11455793aacbca1b59f700-0-4\" stroke-width=\"2px\" d=\"M770,437 C770,350 905,350 905,437\" fill=\"none\" stroke=\"currentColor\"/>\n",
       "    <text dy=\"1.25em\" style=\"font-size: 0.8em; letter-spacing: 1px\">\n",
       "        <textPath xlink:href=\"#arrow-3a7a2b425f11455793aacbca1b59f700-0-4\" class=\"displacy-label\" startOffset=\"50%\" side=\"left\" fill=\"currentColor\" text-anchor=\"middle\">appos</textPath>\n",
       "    </text>\n",
       "    <path class=\"displacy-arrowhead\" d=\"M905,439 L913,427 897,427\" fill=\"currentColor\"/>\n",
       "</g>\n",
       "\n",
       "<g class=\"displacy-arrow\">\n",
       "    <path class=\"displacy-arc\" id=\"arrow-3a7a2b425f11455793aacbca1b59f700-0-5\" stroke-width=\"2px\" d=\"M945,437 C945,350 1080,350 1080,437\" fill=\"none\" stroke=\"currentColor\"/>\n",
       "    <text dy=\"1.25em\" style=\"font-size: 0.8em; letter-spacing: 1px\">\n",
       "        <textPath xlink:href=\"#arrow-3a7a2b425f11455793aacbca1b59f700-0-5\" class=\"displacy-label\" startOffset=\"50%\" side=\"left\" fill=\"currentColor\" text-anchor=\"middle\">flat</textPath>\n",
       "    </text>\n",
       "    <path class=\"displacy-arrowhead\" d=\"M1080,439 L1088,427 1072,427\" fill=\"currentColor\"/>\n",
       "</g>\n",
       "\n",
       "<g class=\"displacy-arrow\">\n",
       "    <path class=\"displacy-arc\" id=\"arrow-3a7a2b425f11455793aacbca1b59f700-0-6\" stroke-width=\"2px\" d=\"M1295,437 C1295,87 1970,87 1970,437\" fill=\"none\" stroke=\"currentColor\"/>\n",
       "    <text dy=\"1.25em\" style=\"font-size: 0.8em; letter-spacing: 1px\">\n",
       "        <textPath xlink:href=\"#arrow-3a7a2b425f11455793aacbca1b59f700-0-6\" class=\"displacy-label\" startOffset=\"50%\" side=\"left\" fill=\"currentColor\" text-anchor=\"middle\">nsubj</textPath>\n",
       "    </text>\n",
       "    <path class=\"displacy-arrowhead\" d=\"M1295,439 L1287,427 1303,427\" fill=\"currentColor\"/>\n",
       "</g>\n",
       "\n",
       "<g class=\"displacy-arrow\">\n",
       "    <path class=\"displacy-arc\" id=\"arrow-3a7a2b425f11455793aacbca1b59f700-0-7\" stroke-width=\"2px\" d=\"M1470,437 C1470,175 1965,175 1965,437\" fill=\"none\" stroke=\"currentColor\"/>\n",
       "    <text dy=\"1.25em\" style=\"font-size: 0.8em; letter-spacing: 1px\">\n",
       "        <textPath xlink:href=\"#arrow-3a7a2b425f11455793aacbca1b59f700-0-7\" class=\"displacy-label\" startOffset=\"50%\" side=\"left\" fill=\"currentColor\" text-anchor=\"middle\">advmod</textPath>\n",
       "    </text>\n",
       "    <path class=\"displacy-arrowhead\" d=\"M1470,439 L1462,427 1478,427\" fill=\"currentColor\"/>\n",
       "</g>\n",
       "\n",
       "<g class=\"displacy-arrow\">\n",
       "    <path class=\"displacy-arc\" id=\"arrow-3a7a2b425f11455793aacbca1b59f700-0-8\" stroke-width=\"2px\" d=\"M1470,437 C1470,350 1605,350 1605,437\" fill=\"none\" stroke=\"currentColor\"/>\n",
       "    <text dy=\"1.25em\" style=\"font-size: 0.8em; letter-spacing: 1px\">\n",
       "        <textPath xlink:href=\"#arrow-3a7a2b425f11455793aacbca1b59f700-0-8\" class=\"displacy-label\" startOffset=\"50%\" side=\"left\" fill=\"currentColor\" text-anchor=\"middle\">fixed</textPath>\n",
       "    </text>\n",
       "    <path class=\"displacy-arrowhead\" d=\"M1605,439 L1613,427 1597,427\" fill=\"currentColor\"/>\n",
       "</g>\n",
       "\n",
       "<g class=\"displacy-arrow\">\n",
       "    <path class=\"displacy-arc\" id=\"arrow-3a7a2b425f11455793aacbca1b59f700-0-9\" stroke-width=\"2px\" d=\"M1820,437 C1820,350 1955,350 1955,437\" fill=\"none\" stroke=\"currentColor\"/>\n",
       "    <text dy=\"1.25em\" style=\"font-size: 0.8em; letter-spacing: 1px\">\n",
       "        <textPath xlink:href=\"#arrow-3a7a2b425f11455793aacbca1b59f700-0-9\" class=\"displacy-label\" startOffset=\"50%\" side=\"left\" fill=\"currentColor\" text-anchor=\"middle\">aux</textPath>\n",
       "    </text>\n",
       "    <path class=\"displacy-arrowhead\" d=\"M1820,439 L1812,427 1828,427\" fill=\"currentColor\"/>\n",
       "</g>\n",
       "\n",
       "<g class=\"displacy-arrow\">\n",
       "    <path class=\"displacy-arc\" id=\"arrow-3a7a2b425f11455793aacbca1b59f700-0-10\" stroke-width=\"2px\" d=\"M245,437 C245,0 1975,0 1975,437\" fill=\"none\" stroke=\"currentColor\"/>\n",
       "    <text dy=\"1.25em\" style=\"font-size: 0.8em; letter-spacing: 1px\">\n",
       "        <textPath xlink:href=\"#arrow-3a7a2b425f11455793aacbca1b59f700-0-10\" class=\"displacy-label\" startOffset=\"50%\" side=\"left\" fill=\"currentColor\" text-anchor=\"middle\">acl</textPath>\n",
       "    </text>\n",
       "    <path class=\"displacy-arrowhead\" d=\"M1975,439 L1983,427 1967,427\" fill=\"currentColor\"/>\n",
       "</g>\n",
       "\n",
       "<g class=\"displacy-arrow\">\n",
       "    <path class=\"displacy-arc\" id=\"arrow-3a7a2b425f11455793aacbca1b59f700-0-11\" stroke-width=\"2px\" d=\"M1995,437 C1995,350 2130,350 2130,437\" fill=\"none\" stroke=\"currentColor\"/>\n",
       "    <text dy=\"1.25em\" style=\"font-size: 0.8em; letter-spacing: 1px\">\n",
       "        <textPath xlink:href=\"#arrow-3a7a2b425f11455793aacbca1b59f700-0-11\" class=\"displacy-label\" startOffset=\"50%\" side=\"left\" fill=\"currentColor\" text-anchor=\"middle\">obj</textPath>\n",
       "    </text>\n",
       "    <path class=\"displacy-arrowhead\" d=\"M2130,439 L2138,427 2122,427\" fill=\"currentColor\"/>\n",
       "</g>\n",
       "\n",
       "<g class=\"displacy-arrow\">\n",
       "    <path class=\"displacy-arc\" id=\"arrow-3a7a2b425f11455793aacbca1b59f700-0-12\" stroke-width=\"2px\" d=\"M2170,437 C2170,350 2305,350 2305,437\" fill=\"none\" stroke=\"currentColor\"/>\n",
       "    <text dy=\"1.25em\" style=\"font-size: 0.8em; letter-spacing: 1px\">\n",
       "        <textPath xlink:href=\"#arrow-3a7a2b425f11455793aacbca1b59f700-0-12\" class=\"displacy-label\" startOffset=\"50%\" side=\"left\" fill=\"currentColor\" text-anchor=\"middle\">amod</textPath>\n",
       "    </text>\n",
       "    <path class=\"displacy-arrowhead\" d=\"M2305,439 L2313,427 2297,427\" fill=\"currentColor\"/>\n",
       "</g>\n",
       "\n",
       "<g class=\"displacy-arrow\">\n",
       "    <path class=\"displacy-arc\" id=\"arrow-3a7a2b425f11455793aacbca1b59f700-0-13\" stroke-width=\"2px\" d=\"M2520,437 C2520,87 3195,87 3195,437\" fill=\"none\" stroke=\"currentColor\"/>\n",
       "    <text dy=\"1.25em\" style=\"font-size: 0.8em; letter-spacing: 1px\">\n",
       "        <textPath xlink:href=\"#arrow-3a7a2b425f11455793aacbca1b59f700-0-13\" class=\"displacy-label\" startOffset=\"50%\" side=\"left\" fill=\"currentColor\" text-anchor=\"middle\">advmod</textPath>\n",
       "    </text>\n",
       "    <path class=\"displacy-arrowhead\" d=\"M2520,439 L2512,427 2528,427\" fill=\"currentColor\"/>\n",
       "</g>\n",
       "\n",
       "<g class=\"displacy-arrow\">\n",
       "    <path class=\"displacy-arc\" id=\"arrow-3a7a2b425f11455793aacbca1b59f700-0-14\" stroke-width=\"2px\" d=\"M2695,437 C2695,175 3190,175 3190,437\" fill=\"none\" stroke=\"currentColor\"/>\n",
       "    <text dy=\"1.25em\" style=\"font-size: 0.8em; letter-spacing: 1px\">\n",
       "        <textPath xlink:href=\"#arrow-3a7a2b425f11455793aacbca1b59f700-0-14\" class=\"displacy-label\" startOffset=\"50%\" side=\"left\" fill=\"currentColor\" text-anchor=\"middle\">obj</textPath>\n",
       "    </text>\n",
       "    <path class=\"displacy-arrowhead\" d=\"M2695,439 L2687,427 2703,427\" fill=\"currentColor\"/>\n",
       "</g>\n",
       "\n",
       "<g class=\"displacy-arrow\">\n",
       "    <path class=\"displacy-arc\" id=\"arrow-3a7a2b425f11455793aacbca1b59f700-0-15\" stroke-width=\"2px\" d=\"M2870,437 C2870,262 3185,262 3185,437\" fill=\"none\" stroke=\"currentColor\"/>\n",
       "    <text dy=\"1.25em\" style=\"font-size: 0.8em; letter-spacing: 1px\">\n",
       "        <textPath xlink:href=\"#arrow-3a7a2b425f11455793aacbca1b59f700-0-15\" class=\"displacy-label\" startOffset=\"50%\" side=\"left\" fill=\"currentColor\" text-anchor=\"middle\">aux</textPath>\n",
       "    </text>\n",
       "    <path class=\"displacy-arrowhead\" d=\"M2870,439 L2862,427 2878,427\" fill=\"currentColor\"/>\n",
       "</g>\n",
       "\n",
       "<g class=\"displacy-arrow\">\n",
       "    <path class=\"displacy-arc\" id=\"arrow-3a7a2b425f11455793aacbca1b59f700-0-16\" stroke-width=\"2px\" d=\"M3045,437 C3045,350 3180,350 3180,437\" fill=\"none\" stroke=\"currentColor\"/>\n",
       "    <text dy=\"1.25em\" style=\"font-size: 0.8em; letter-spacing: 1px\">\n",
       "        <textPath xlink:href=\"#arrow-3a7a2b425f11455793aacbca1b59f700-0-16\" class=\"displacy-label\" startOffset=\"50%\" side=\"left\" fill=\"currentColor\" text-anchor=\"middle\">aux</textPath>\n",
       "    </text>\n",
       "    <path class=\"displacy-arrowhead\" d=\"M3045,439 L3037,427 3053,427\" fill=\"currentColor\"/>\n",
       "</g>\n",
       "\n",
       "<g class=\"displacy-arrow\">\n",
       "    <path class=\"displacy-arc\" id=\"arrow-3a7a2b425f11455793aacbca1b59f700-0-17\" stroke-width=\"2px\" d=\"M3395,437 C3395,350 3530,350 3530,437\" fill=\"none\" stroke=\"currentColor\"/>\n",
       "    <text dy=\"1.25em\" style=\"font-size: 0.8em; letter-spacing: 1px\">\n",
       "        <textPath xlink:href=\"#arrow-3a7a2b425f11455793aacbca1b59f700-0-17\" class=\"displacy-label\" startOffset=\"50%\" side=\"left\" fill=\"currentColor\" text-anchor=\"middle\">det</textPath>\n",
       "    </text>\n",
       "    <path class=\"displacy-arrowhead\" d=\"M3395,439 L3387,427 3403,427\" fill=\"currentColor\"/>\n",
       "</g>\n",
       "\n",
       "<g class=\"displacy-arrow\">\n",
       "    <path class=\"displacy-arc\" id=\"arrow-3a7a2b425f11455793aacbca1b59f700-0-18\" stroke-width=\"2px\" d=\"M3220,437 C3220,262 3535,262 3535,437\" fill=\"none\" stroke=\"currentColor\"/>\n",
       "    <text dy=\"1.25em\" style=\"font-size: 0.8em; letter-spacing: 1px\">\n",
       "        <textPath xlink:href=\"#arrow-3a7a2b425f11455793aacbca1b59f700-0-18\" class=\"displacy-label\" startOffset=\"50%\" side=\"left\" fill=\"currentColor\" text-anchor=\"middle\">nsubj</textPath>\n",
       "    </text>\n",
       "    <path class=\"displacy-arrowhead\" d=\"M3535,439 L3543,427 3527,427\" fill=\"currentColor\"/>\n",
       "</g>\n",
       "\n",
       "<g class=\"displacy-arrow\">\n",
       "    <path class=\"displacy-arc\" id=\"arrow-3a7a2b425f11455793aacbca1b59f700-0-19\" stroke-width=\"2px\" d=\"M3745,437 C3745,262 4060,262 4060,437\" fill=\"none\" stroke=\"currentColor\"/>\n",
       "    <text dy=\"1.25em\" style=\"font-size: 0.8em; letter-spacing: 1px\">\n",
       "        <textPath xlink:href=\"#arrow-3a7a2b425f11455793aacbca1b59f700-0-19\" class=\"displacy-label\" startOffset=\"50%\" side=\"left\" fill=\"currentColor\" text-anchor=\"middle\">case</textPath>\n",
       "    </text>\n",
       "    <path class=\"displacy-arrowhead\" d=\"M3745,439 L3737,427 3753,427\" fill=\"currentColor\"/>\n",
       "</g>\n",
       "\n",
       "<g class=\"displacy-arrow\">\n",
       "    <path class=\"displacy-arc\" id=\"arrow-3a7a2b425f11455793aacbca1b59f700-0-20\" stroke-width=\"2px\" d=\"M3920,437 C3920,350 4055,350 4055,437\" fill=\"none\" stroke=\"currentColor\"/>\n",
       "    <text dy=\"1.25em\" style=\"font-size: 0.8em; letter-spacing: 1px\">\n",
       "        <textPath xlink:href=\"#arrow-3a7a2b425f11455793aacbca1b59f700-0-20\" class=\"displacy-label\" startOffset=\"50%\" side=\"left\" fill=\"currentColor\" text-anchor=\"middle\">det</textPath>\n",
       "    </text>\n",
       "    <path class=\"displacy-arrowhead\" d=\"M3920,439 L3912,427 3928,427\" fill=\"currentColor\"/>\n",
       "</g>\n",
       "\n",
       "<g class=\"displacy-arrow\">\n",
       "    <path class=\"displacy-arc\" id=\"arrow-3a7a2b425f11455793aacbca1b59f700-0-21\" stroke-width=\"2px\" d=\"M3570,437 C3570,175 4065,175 4065,437\" fill=\"none\" stroke=\"currentColor\"/>\n",
       "    <text dy=\"1.25em\" style=\"font-size: 0.8em; letter-spacing: 1px\">\n",
       "        <textPath xlink:href=\"#arrow-3a7a2b425f11455793aacbca1b59f700-0-21\" class=\"displacy-label\" startOffset=\"50%\" side=\"left\" fill=\"currentColor\" text-anchor=\"middle\">nmod</textPath>\n",
       "    </text>\n",
       "    <path class=\"displacy-arrowhead\" d=\"M4065,439 L4073,427 4057,427\" fill=\"currentColor\"/>\n",
       "</g>\n",
       "</svg></span>"
      ],
      "text/plain": [
       "<IPython.core.display.HTML object>"
      ]
     },
     "metadata": {},
     "output_type": "display_data"
    }
   ],
   "source": [
    "displacy.render(doc, style=\"dep\")"
   ]
  },
  {
   "cell_type": "code",
   "execution_count": 13,
   "metadata": {},
   "outputs": [
    {
     "name": "stdout",
     "output_type": "stream",
     "text": [
      "Escasa participación de la profesora Josefina Hernández que ni siquiera ha preparado unidades didácticas.\n",
      "No se han ido facilitando las correcciones de las materias\n"
     ]
    }
   ],
   "source": [
    "# Sentence Segmentation\n",
    "for sent in doc.sents:\n",
    "    print(sent.text)"
   ]
  },
  {
   "cell_type": "code",
   "execution_count": null,
   "metadata": {},
   "outputs": [],
   "source": []
  }
 ],
 "metadata": {
  "kernelspec": {
   "display_name": "Python 2",
   "language": "python",
   "name": "python2"
  },
  "language_info": {
   "codemirror_mode": {
    "name": "ipython",
    "version": 3
   },
   "file_extension": ".py",
   "mimetype": "text/x-python",
   "name": "python",
   "nbconvert_exporter": "python",
   "pygments_lexer": "ipython3",
   "version": "3.8.3"
  }
 },
 "nbformat": 4,
 "nbformat_minor": 2
}
