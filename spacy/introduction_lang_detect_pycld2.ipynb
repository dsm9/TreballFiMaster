{
 "cells": [
  {
   "cell_type": "markdown",
   "metadata": {},
   "source": [
    "# Language detection pycld2 - Test\n",
    "\n",
    "In this notebook we test the use of pycld2 to test the language detection of commnets.\n",
    "\n"
   ]
  },
  {
   "cell_type": "code",
   "execution_count": 4,
   "metadata": {},
   "outputs": [
    {
     "name": "stdout",
     "output_type": "stream",
     "text": [
      "Collecting pycld2\n",
      "  Downloading pycld2-0.41.tar.gz (41.4 MB)\n",
      "\u001b[K     |████████████████████████████████| 41.4 MB 4.5 MB/s eta 0:00:011\n",
      "\u001b[?25hBuilding wheels for collected packages: pycld2\n",
      "  Building wheel for pycld2 (setup.py) ... \u001b[?25ldone\n",
      "\u001b[?25h  Created wheel for pycld2: filename=pycld2-0.41-cp38-cp38-linux_x86_64.whl size=9917136 sha256=4ce6b0e5de9055e633e65b492b446ee83cc9437344fba1f7500ed7437f6a9611\n",
      "  Stored in directory: /home/david/.cache/pip/wheels/2b/3a/82/d990040cbe6c3527732e931e2925785e83fe9aaa5a11c313ca\n",
      "Successfully built pycld2\n",
      "Installing collected packages: pycld2\n",
      "Successfully installed pycld2-0.41\n"
     ]
    }
   ],
   "source": [
    "# Intal·lation (only first time):\n",
    "# !pip install pycld2"
   ]
  },
  {
   "cell_type": "code",
   "execution_count": 3,
   "metadata": {},
   "outputs": [],
   "source": [
    "import pycld2 as cld2"
   ]
  },
  {
   "cell_type": "code",
   "execution_count": 4,
   "metadata": {},
   "outputs": [],
   "source": [
    "texts = [\"Escasa participación de la profesora que ni siquiera ha preparado unidades didácticas. \"\n",
    "       \"No se han ido facilitando las correcciones de las materias\",\n",
    "       \"L'assignatura va començar el dia 8 de març amb una sessió de seguiment en horari laboral.\",\n",
    "       \"Some mentors in the course didn't conduct the online training and just give materials to read and answer questions.\",\n",
    "       \"Ni tan sols ha preparat les classes. Escasa participación de la profesora. \"\n",
    "       ]\n"
   ]
  },
  {
   "cell_type": "code",
   "execution_count": 11,
   "metadata": {},
   "outputs": [
    {
     "name": "stdout",
     "output_type": "stream",
     "text": [
      "Text:  Escasa participación de la profesora que ni siquiera ha preparado unidades didácticas. No se han ido facilitando las correcciones de las materias\n",
      "isReliable:  True\n",
      "textBytesFound:  148\n",
      "details:  (('SPANISH', 'es', 99, 501.0), ('Unknown', 'un', 0, 0.0), ('Unknown', 'un', 0, 0.0))\n",
      "Language:  es\n",
      "Text:  L'assignatura va començar el dia 8 de març amb una sessió de seguiment en horari laboral.\n",
      "isReliable:  True\n",
      "textBytesFound:  91\n",
      "details:  (('CATALAN', 'ca', 98, 830.0), ('Unknown', 'un', 0, 0.0), ('Unknown', 'un', 0, 0.0))\n",
      "Language:  ca\n",
      "Text:  Some mentors in the course didn't conduct the online training and just give materials to read and answer questions.\n",
      "isReliable:  True\n",
      "textBytesFound:  116\n",
      "details:  (('ENGLISH', 'en', 99, 1184.0), ('Unknown', 'un', 0, 0.0), ('Unknown', 'un', 0, 0.0))\n",
      "Language:  en\n",
      "Text:  Ni tan sols ha preparat les classes. Escasa participación de la profesora. \n",
      "isReliable:  True\n",
      "textBytesFound:  75\n",
      "details:  (('ENGLISH', 'en', 98, 428.0), ('Unknown', 'un', 0, 0.0), ('Unknown', 'un', 0, 0.0))\n",
      "Language:  en\n"
     ]
    }
   ],
   "source": [
    "# Text detection details\n",
    "\n",
    "for text in texts:\n",
    "    isReliable, textBytesFound, details = cld2.detect(text.encode('utf-8', 'replace'), \n",
    "                                                    isPlainText = True, bestEffort = True, returnVectors=False)\n",
    "    print (\"Text: \", text)\n",
    "    print (\"isReliable: \", isReliable)\n",
    "    print (\"textBytesFound: \", textBytesFound)\n",
    "    print (\"details: \", details)\n",
    "    \n",
    "    print (\"Language: \", details[0][1])"
   ]
  },
  {
   "cell_type": "code",
   "execution_count": 15,
   "metadata": {},
   "outputs": [],
   "source": [
    "def detect_language_pycld2(comment):\n",
    "    isReliable, textBytesFound, details = cld2.detect(text.encode('utf-8', 'replace'), \n",
    "                                                    isPlainText = True, bestEffort = True, returnVectors=False)\n",
    "    \n",
    "    return details[0][1]"
   ]
  },
  {
   "cell_type": "code",
   "execution_count": 16,
   "metadata": {},
   "outputs": [
    {
     "name": "stdout",
     "output_type": "stream",
     "text": [
      "Text:  Escasa participación de la profesora que ni siquiera ha preparado unidades didácticas. No se han ido facilitando las correcciones de las materias\n",
      "Language:  es\n",
      "Text:  L'assignatura va començar el dia 8 de març amb una sessió de seguiment en horari laboral.\n",
      "Language:  ca\n",
      "Text:  Some mentors in the course didn't conduct the online training and just give materials to read and answer questions.\n",
      "Language:  en\n",
      "Text:  Ni tan sols ha preparat les classes. Escasa participación de la profesora. \n",
      "Language:  en\n"
     ]
    }
   ],
   "source": [
    "for text in texts:\n",
    "    language = detect_language_pycld2(text)\n",
    "    print (\"Text: \", text)\n",
    "    print (\"Language: \", language)"
   ]
  },
  {
   "cell_type": "code",
   "execution_count": null,
   "metadata": {},
   "outputs": [],
   "source": []
  }
 ],
 "metadata": {
  "kernelspec": {
   "display_name": "Python 3",
   "language": "python",
   "name": "python3"
  },
  "language_info": {
   "codemirror_mode": {
    "name": "ipython",
    "version": 3
   },
   "file_extension": ".py",
   "mimetype": "text/x-python",
   "name": "python",
   "nbconvert_exporter": "python",
   "pygments_lexer": "ipython3",
   "version": "3.8.5"
  }
 },
 "nbformat": 4,
 "nbformat_minor": 4
}
