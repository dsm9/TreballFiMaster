{
 "cells": [
  {
   "cell_type": "markdown",
   "metadata": {},
   "source": []
  },
  {
   "cell_type": "code",
   "execution_count": 1,
   "metadata": {},
   "outputs": [],
   "source": [
    "from __future__ import unicode_literals, print_function\n",
    "import plac\n",
    "import random\n",
    "from pathlib import Path\n",
    "import thinc.extra.datasets"
   ]
  },
  {
   "cell_type": "code",
   "execution_count": 2,
   "metadata": {},
   "outputs": [],
   "source": [
    "import spacy\n",
    "from spacy.util import minibatch, compounding"
   ]
  },
  {
   "cell_type": "code",
   "execution_count": 3,
   "metadata": {},
   "outputs": [],
   "source": [
    "@plac.annotations(\n",
    "    model=(\"Model name. Defaults to blank 'en' model.\", \"option\", \"m\", str),\n",
    "    output_dir=(\"Optional output directory\", \"option\", \"o\", Path),\n",
    "    n_texts=(\"Number of texts to train from\", \"option\", \"t\", int),\n",
    "    n_iter=(\"Number of training iterations\", \"option\", \"n\", int),\n",
    "    init_tok2vec=(\"Pretrained tok2vec weights\", \"option\", \"t2v\", Path),\n",
    ")\n",
    "def main(model=None, output_dir=None, n_iter=20, n_texts=2000, init_tok2vec=None):\n",
    "    if output_dir is not None:\n",
    "        output_dir = Path(output_dir)\n",
    "        if not output_dir.exists():\n",
    "            output_dir.mkdir()\n",
    "\n",
    "    if model is not None:\n",
    "        nlp = spacy.load(model)  # load existing spaCy model\n",
    "        print(\"Loaded model '%s'\" % model)\n",
    "    else:\n",
    "        nlp = spacy.blank(\"en\")  # create blank Language class\n",
    "        print(\"Created blank 'en' model\")\n",
    "\n",
    "    # add the text classifier to the pipeline if it doesn't exist\n",
    "    # nlp.create_pipe works for built-ins that are registered with spaCy\n",
    "    if \"textcat\" not in nlp.pipe_names:\n",
    "        textcat = nlp.create_pipe(\n",
    "            \"textcat\", config={\"exclusive_classes\": True, \"architecture\": \"simple_cnn\"}\n",
    "        )\n",
    "        nlp.add_pipe(textcat, last=True)\n",
    "    # otherwise, get it, so we can add labels to it\n",
    "    else:\n",
    "        textcat = nlp.get_pipe(\"textcat\")\n",
    "\n",
    "    # add label to text classifier\n",
    "    textcat.add_label(\"POSITIVE\")\n",
    "    textcat.add_label(\"NEGATIVE\")\n",
    "\n",
    "    # load the IMDB dataset\n",
    "    print(\"Loading IMDB data...\")\n",
    "    (train_texts, train_cats), (dev_texts, dev_cats) = load_data()\n",
    "    train_texts = train_texts[:n_texts]\n",
    "    train_cats = train_cats[:n_texts]\n",
    "    print(\n",
    "        \"Using {} examples ({} training, {} evaluation)\".format(\n",
    "            n_texts, len(train_texts), len(dev_texts)\n",
    "        )\n",
    "    )\n",
    "    train_data = list(zip(train_texts, [{\"cats\": cats} for cats in train_cats]))\n",
    "    print (\"train_data: \")\n",
    "    print (train_data)\n",
    "    # converts the data to the format:\n",
    "    # (text, {'cats': {'POSITIVE': True, 'NEGATIVE': False}}))\n",
    "    \n",
    "    # get names of other pipes to disable them during training\n",
    "    pipe_exceptions = [\"textcat\", \"trf_wordpiecer\", \"trf_tok2vec\"]\n",
    "    other_pipes = [pipe for pipe in nlp.pipe_names if pipe not in pipe_exceptions]\n",
    "    with nlp.disable_pipes(*other_pipes):  # only train textcat\n",
    "        optimizer = nlp.begin_training()\n",
    "        if init_tok2vec is not None:\n",
    "            with init_tok2vec.open(\"rb\") as file_:\n",
    "                textcat.model.tok2vec.from_bytes(file_.read())\n",
    "        print(\"Training the model...\")\n",
    "        print(\"{:^5}\\t{:^5}\\t{:^5}\\t{:^5}\".format(\"LOSS\", \"P\", \"R\", \"F\"))\n",
    "        batch_sizes = compounding(4.0, 32.0, 1.001)\n",
    "        for i in range(n_iter):\n",
    "            losses = {}\n",
    "            # batch up the examples using spaCy's minibatch\n",
    "            random.shuffle(train_data)\n",
    "            batches = minibatch(train_data, size=batch_sizes)\n",
    "            for batch in batches:\n",
    "                print (\"Batch: \")\n",
    "                print (batch)\n",
    "                texts, annotations = zip(*batch)\n",
    " #               print (\"Texts: \")\n",
    " #               print (texts)\n",
    "                # Eliminación del 20% de los casos para evitar generalizaciones\n",
    "                nlp.update(texts, annotations, sgd=optimizer, drop=0.2, losses=losses)\n",
    "            with textcat.model.use_params(optimizer.averages):\n",
    "                # evaluate on the dev data split off in load_data()\n",
    "                scores = evaluate(nlp.tokenizer, textcat, dev_texts, dev_cats)\n",
    "            print(\n",
    "                \"{0:.3f}\\t{1:.3f}\\t{2:.3f}\\t{3:.3f}\".format(  # print a simple table\n",
    "                    losses[\"textcat\"],\n",
    "                    scores[\"textcat_p\"],\n",
    "                    scores[\"textcat_r\"],\n",
    "                    scores[\"textcat_f\"],\n",
    "                )\n",
    "            )\n",
    "\n",
    "    # test the trained model\n",
    "    test_text = \"L'actitud de la professora em resulta molt motivadora.\"\n",
    "    \n",
    "    doc = nlp(test_text)\n",
    "    print(test_text, doc.cats)\n",
    "\n",
    "    if output_dir is not None:\n",
    "        with nlp.use_params(optimizer.averages):\n",
    "            nlp.to_disk(output_dir)\n",
    "        print(\"Saved model to\", output_dir)\n",
    "\n",
    "        # test the saved model\n",
    "        print(\"Loading from\", output_dir)\n",
    "        nlp2 = spacy.load(output_dir)\n",
    "        doc2 = nlp2(test_text)\n",
    "        print(test_text, doc2.cats)\n",
    "\n"
   ]
  },
  {
   "cell_type": "code",
   "execution_count": 4,
   "metadata": {},
   "outputs": [],
   "source": [
    "def load_data(limit=0, split=0.8):\n",
    "    \"\"\"Load data from the IMDB dataset.\"\"\"\n",
    "    # Partition off part of the train data for evaluation\n",
    "    train_data, _ = thinc.extra.datasets.imdb()\n",
    "    # Array of (text, label)\n",
    "    random.shuffle(train_data)\n",
    "    train_data = train_data[-limit:]\n",
    "    print (train_data[0])\n",
    "    # split text and label\n",
    "    texts, labels = zip(*train_data)\n",
    "#    print (\"Texts: \", end=\"\")\n",
    "#    print (texts[0])\n",
    "#    print (\"Labels: \", end=\"\")\n",
    "#    print (labels[0])\n",
    "    # Converts: label=1 -> {\"POSITIVE\": True, \"NEGATIVE\": False}\n",
    "    # label=0 -> {\"POSITIVE\": False, \"NEGATIVE\": True}\n",
    "    cats = [{\"POSITIVE\": bool(y), \"NEGATIVE\": not bool(y)} for y in labels]\n",
    "#    print (\"cats\")\n",
    "#    print (cats[0])\n",
    "    split = int(len(train_data) * split)\n",
    "#    print (\"split\")\n",
    "#    print (split)   \n",
    "    # Return train data and test data\n",
    "    return (texts[:split], cats[:split]), (texts[split:], cats[split:])"
   ]
  },
  {
   "cell_type": "code",
   "execution_count": 5,
   "metadata": {},
   "outputs": [],
   "source": [
    "def evaluate(tokenizer, textcat, texts, cats):\n",
    "    docs = (tokenizer(text) for text in texts)\n",
    "    tp = 0.0  # True positives\n",
    "    fp = 1e-8  # False positives\n",
    "    fn = 1e-8  # False negatives\n",
    "    tn = 0.0  # True negatives\n",
    "    for i, doc in enumerate(textcat.pipe(docs)):\n",
    "        gold = cats[i]\n",
    "        for label, score in doc.cats.items():\n",
    "            if label not in gold:\n",
    "                continue\n",
    "            if label == \"NEGATIVE\":\n",
    "                continue\n",
    "            if score >= 0.5 and gold[label] >= 0.5:\n",
    "                tp += 1.0\n",
    "            elif score >= 0.5 and gold[label] < 0.5:\n",
    "                fp += 1.0\n",
    "            elif score < 0.5 and gold[label] < 0.5:\n",
    "                tn += 1\n",
    "            elif score < 0.5 and gold[label] >= 0.5:\n",
    "                fn += 1\n",
    "    precision = tp / (tp + fp)\n",
    "    recall = tp / (tp + fn)\n",
    "    if (precision + recall) == 0:\n",
    "        f_score = 0.0\n",
    "    else:\n",
    "        f_score = 2 * (precision * recall) / (precision + recall)\n",
    "    return {\"textcat_p\": precision, \"textcat_r\": recall, \"textcat_f\": f_score}\n",
    "\n",
    "\n"
   ]
  },
  {
   "cell_type": "code",
   "execution_count": 6,
   "metadata": {},
   "outputs": [
    {
     "name": "stderr",
     "output_type": "stream",
     "text": [
      "usage: ipykernel_launcher.py [-h] [-m None] [-o None] [-n 20] [-t 2000]\n",
      "                             [-t2v None]\n",
      "ipykernel_launcher.py: error: unrecognized arguments: -f /home/david/.local/share/jupyter/runtime/kernel-ec4f071a-32d2-4735-8683-5506f172a9c0.json\n"
     ]
    },
    {
     "ename": "SystemExit",
     "evalue": "2",
     "output_type": "error",
     "traceback": [
      "An exception has occurred, use %tb to see the full traceback.\n",
      "\u001b[0;31mSystemExit\u001b[0m\u001b[0;31m:\u001b[0m 2\n"
     ]
    },
    {
     "name": "stderr",
     "output_type": "stream",
     "text": [
      "/home/david/bin/anaconda3/lib/python3.8/site-packages/IPython/core/interactiveshell.py:3426: UserWarning: To exit: use 'exit', 'quit', or Ctrl-D.\n",
      "  warn(\"To exit: use 'exit', 'quit', or Ctrl-D.\", stacklevel=1)\n"
     ]
    }
   ],
   "source": [
    "if __name__ == \"__main__\":\n",
    "    plac.call(main)\n"
   ]
  },
  {
   "cell_type": "code",
   "execution_count": 6,
   "metadata": {},
   "outputs": [],
   "source": [
    "model = \"es_core_news_sm\"\n",
    "output_dir = \"../data/processed/\"\n",
    "n_texts = 2\n",
    "n_iter = 1\n",
    "init_tok2vec=None\n"
   ]
  },
  {
   "cell_type": "code",
   "execution_count": 7,
   "metadata": {},
   "outputs": [
    {
     "name": "stdout",
     "output_type": "stream",
     "text": [
      "Loaded model 'es_core_news_sm'\n",
      "Loading IMDB data...\n",
      "Downloading data from http://ai.stanford.edu/~amaas/data/sentiment/aclImdb_v1.tar.gz\n",
      "84107264/84125825 [============================>.] - ETA: 0s Untaring file...\n",
      "(\"Steely, powerful gangster supreme Frankie Diomede (the always terrific Lee Van Cleef in fine rugged form) has himself arrested and sent to prison so he can rub out a traitorous partner sans detection. Fawning goofball small-time hood and wiseguy wannabe Tony Breda (an amiable portrayal by Tony Lo Bianco) gets busted as well. Frank and Tony form an unlikely friendship behind bars. Tony helps Frank break out of the joint and assists him on his quest to exact revenge on a rival group of mobsters lead by the ruthless Louis Annunziata (smoothly played by Jean Rochefort). Director Michele Lupo, working from an absorbing script by Sergio Donati and Luciano Vincenzoni, relates the neat story at a constant brisk pace, sustains a suitably gritty, but occasionally lighthearted tone throughout, and stages the rousing action set pieces with considerable rip-snorting brio (a rough'n'tumble jailhouse shower brawl and a protracted mondo destructo car chase rate as the definite thrilling highlights). Van Cleef and Lo Bianco display a nice, loose and engaging on-screen chemistry; the relationship between their characters is alternately funny and touching. The ravishing Edwige Fenech alas isn't given much to do as Tony's whiny girlfriend Orchidea, but at least gets to bare her insanely gorgeous and voluptuous body in a much-appreciated gratuitous nude shower scene. Riz Ortolani's groovy, pulsating, syncopated funk/jazz score certainly hits the soulfully swingin' spot. The polished cinematography by Joe D'Amato and Aldo Tonti is likewise impressive. A really nifty and entertaining little winner.\", 1)\n",
      "Using 2 examples (2 training, 5000 evaluation)\n",
      "train_data: \n",
      "[(\"Steely, powerful gangster supreme Frankie Diomede (the always terrific Lee Van Cleef in fine rugged form) has himself arrested and sent to prison so he can rub out a traitorous partner sans detection. Fawning goofball small-time hood and wiseguy wannabe Tony Breda (an amiable portrayal by Tony Lo Bianco) gets busted as well. Frank and Tony form an unlikely friendship behind bars. Tony helps Frank break out of the joint and assists him on his quest to exact revenge on a rival group of mobsters lead by the ruthless Louis Annunziata (smoothly played by Jean Rochefort). Director Michele Lupo, working from an absorbing script by Sergio Donati and Luciano Vincenzoni, relates the neat story at a constant brisk pace, sustains a suitably gritty, but occasionally lighthearted tone throughout, and stages the rousing action set pieces with considerable rip-snorting brio (a rough'n'tumble jailhouse shower brawl and a protracted mondo destructo car chase rate as the definite thrilling highlights). Van Cleef and Lo Bianco display a nice, loose and engaging on-screen chemistry; the relationship between their characters is alternately funny and touching. The ravishing Edwige Fenech alas isn't given much to do as Tony's whiny girlfriend Orchidea, but at least gets to bare her insanely gorgeous and voluptuous body in a much-appreciated gratuitous nude shower scene. Riz Ortolani's groovy, pulsating, syncopated funk/jazz score certainly hits the soulfully swingin' spot. The polished cinematography by Joe D'Amato and Aldo Tonti is likewise impressive. A really nifty and entertaining little winner.\", {'cats': {'POSITIVE': True, 'NEGATIVE': False}}), ('This movie is still an all time favorite. Only a pretentious, humorless moron would not enjoy this wonderful film. This movie feels like a slice of warm apple pie topped with french vanilla ice cream! I think this is Cher\\'s best work ever and her most believable performance. Cher has always been blessed with charisma, good looks, and an enviably thin figure. Whether you like her singing or not - who else sounds like Cher? Cher has definitely made her mark in the entertainment industry and will be remembered long after others have come and gone. She is one of the most unique artists out there. It\\'s funny, because who would have thought of Cher as such a naturally gifted actress? She is heads above the so-called movie \"stars\" of today. Cher is a real actor on the same level as Debra Winger, Alfre Woodard, Holly Hunter, Angela Bassett and a few others, in that she never seems to be \"acting,\" she really becomes the character convincingly. She has more than earned the respect of her peers and of the movie-going public.\\n\\n\\n\\nEverything about Moonstruck is wonderful - the characters, the scenery, the dialog, the food. I never get tired of watching this movie.\\n\\n\\n\\nEvery time single time I watch the scene where they are all sitting around the dinner table at Rose\\'s house, I pause the remote to see exactly what delicious food Rose is serving. I saw the spaghetti, mushrooms (I think), but I can\\'t make out whether they are eating ravioli, ziti? What is that main course? It looks wonderful and its driving me nuts! \\n\\n\\n\\nEverybody in that family was a hardworking individual and they respected and cared about one another. The grandfather wasn\\'t pushed aside and tolerated, he was a vital part of the family and he was listened to and respected for his age and wisdom. He seemed to be a pretty healthy, independent old codger too.\\n\\n\\n\\nLoretta\\'s mom wasn\\'t \"just a housewife,\" she was the glue that held the family together and was a model example of what a wife, mother, and home manager should aspire to be. She was proud of the lifestyle she had chosen but she didn\\'t let it define who she was. High powered businessmen aren\\'t as comfortable in their skin as Rose Casterini was. Notice the saucy way she said \"I didn\\'t have kids until after I was 37. It ain\\'t over \\'til its over.\" You got the sense that she had been the type of young woman who did exactly as she pleased and got her way without the other person realizing what had happened. She was charming, quick witted, and very smart. What a great mom! \\n\\n\\n\\nI didn\\'t actually like Loretta right away because she seemed like a bit of a know--it-all who wasn\\'t really as adventurous and as in control of herself as she wanted others to think. She could tell others about themselves and where they had gone wrong, but she really didn\\'t apply common sense to her own life. She was going to marry a middle-aged mama\\'s boy simply because she wanted a husband and a sense of identity and purpose to her life. She was more conventional than her own mom. She dressed and wore her hair like a matron at a house of detention and seemed humorless and bored, but underneath you sensed that she was vulnerable and lonely and had a lot of love to give the right man. She would probably end up making an awesome mom too.\\n\\n\\n\\nI could see in the future, a house full of Loretta and Ronnie\\'s loud, screaming happy kids and Rose and Cosmo enjoying every minute of it.', {'cats': {'POSITIVE': True, 'NEGATIVE': False}})]\n",
      "Training the model...\n",
      "LOSS \t  P  \t  R  \t  F  \n",
      "Batch: \n",
      "[(\"Steely, powerful gangster supreme Frankie Diomede (the always terrific Lee Van Cleef in fine rugged form) has himself arrested and sent to prison so he can rub out a traitorous partner sans detection. Fawning goofball small-time hood and wiseguy wannabe Tony Breda (an amiable portrayal by Tony Lo Bianco) gets busted as well. Frank and Tony form an unlikely friendship behind bars. Tony helps Frank break out of the joint and assists him on his quest to exact revenge on a rival group of mobsters lead by the ruthless Louis Annunziata (smoothly played by Jean Rochefort). Director Michele Lupo, working from an absorbing script by Sergio Donati and Luciano Vincenzoni, relates the neat story at a constant brisk pace, sustains a suitably gritty, but occasionally lighthearted tone throughout, and stages the rousing action set pieces with considerable rip-snorting brio (a rough'n'tumble jailhouse shower brawl and a protracted mondo destructo car chase rate as the definite thrilling highlights). Van Cleef and Lo Bianco display a nice, loose and engaging on-screen chemistry; the relationship between their characters is alternately funny and touching. The ravishing Edwige Fenech alas isn't given much to do as Tony's whiny girlfriend Orchidea, but at least gets to bare her insanely gorgeous and voluptuous body in a much-appreciated gratuitous nude shower scene. Riz Ortolani's groovy, pulsating, syncopated funk/jazz score certainly hits the soulfully swingin' spot. The polished cinematography by Joe D'Amato and Aldo Tonti is likewise impressive. A really nifty and entertaining little winner.\", {'cats': {'POSITIVE': True, 'NEGATIVE': False}}), ('This movie is still an all time favorite. Only a pretentious, humorless moron would not enjoy this wonderful film. This movie feels like a slice of warm apple pie topped with french vanilla ice cream! I think this is Cher\\'s best work ever and her most believable performance. Cher has always been blessed with charisma, good looks, and an enviably thin figure. Whether you like her singing or not - who else sounds like Cher? Cher has definitely made her mark in the entertainment industry and will be remembered long after others have come and gone. She is one of the most unique artists out there. It\\'s funny, because who would have thought of Cher as such a naturally gifted actress? She is heads above the so-called movie \"stars\" of today. Cher is a real actor on the same level as Debra Winger, Alfre Woodard, Holly Hunter, Angela Bassett and a few others, in that she never seems to be \"acting,\" she really becomes the character convincingly. She has more than earned the respect of her peers and of the movie-going public.\\n\\n\\n\\nEverything about Moonstruck is wonderful - the characters, the scenery, the dialog, the food. I never get tired of watching this movie.\\n\\n\\n\\nEvery time single time I watch the scene where they are all sitting around the dinner table at Rose\\'s house, I pause the remote to see exactly what delicious food Rose is serving. I saw the spaghetti, mushrooms (I think), but I can\\'t make out whether they are eating ravioli, ziti? What is that main course? It looks wonderful and its driving me nuts! \\n\\n\\n\\nEverybody in that family was a hardworking individual and they respected and cared about one another. The grandfather wasn\\'t pushed aside and tolerated, he was a vital part of the family and he was listened to and respected for his age and wisdom. He seemed to be a pretty healthy, independent old codger too.\\n\\n\\n\\nLoretta\\'s mom wasn\\'t \"just a housewife,\" she was the glue that held the family together and was a model example of what a wife, mother, and home manager should aspire to be. She was proud of the lifestyle she had chosen but she didn\\'t let it define who she was. High powered businessmen aren\\'t as comfortable in their skin as Rose Casterini was. Notice the saucy way she said \"I didn\\'t have kids until after I was 37. It ain\\'t over \\'til its over.\" You got the sense that she had been the type of young woman who did exactly as she pleased and got her way without the other person realizing what had happened. She was charming, quick witted, and very smart. What a great mom! \\n\\n\\n\\nI didn\\'t actually like Loretta right away because she seemed like a bit of a know--it-all who wasn\\'t really as adventurous and as in control of herself as she wanted others to think. She could tell others about themselves and where they had gone wrong, but she really didn\\'t apply common sense to her own life. She was going to marry a middle-aged mama\\'s boy simply because she wanted a husband and a sense of identity and purpose to her life. She was more conventional than her own mom. She dressed and wore her hair like a matron at a house of detention and seemed humorless and bored, but underneath you sensed that she was vulnerable and lonely and had a lot of love to give the right man. She would probably end up making an awesome mom too.\\n\\n\\n\\nI could see in the future, a house full of Loretta and Ronnie\\'s loud, screaming happy kids and Rose and Cosmo enjoying every minute of it.', {'cats': {'POSITIVE': True, 'NEGATIVE': False}})]\n"
     ]
    },
    {
     "name": "stdout",
     "output_type": "stream",
     "text": [
      "0.125\t0.495\t1.000\t0.662\n",
      "This movie sucked {'POSITIVE': 0.49531424045562744, 'NEGATIVE': 0.5046857595443726}\n",
      "Saved model to ../data/processed\n",
      "Loading from ../data/processed\n",
      "This movie sucked {'POSITIVE': 0.4969375729560852, 'NEGATIVE': 0.5030624270439148}\n"
     ]
    }
   ],
   "source": [
    "main (model, output_dir, n_iter, n_texts, init_tok2vec)\n"
   ]
  },
  {
   "cell_type": "code",
   "execution_count": null,
   "metadata": {},
   "outputs": [],
   "source": []
  }
 ],
 "metadata": {
  "kernelspec": {
   "display_name": "Python 3",
   "language": "python",
   "name": "python3"
  },
  "language_info": {
   "codemirror_mode": {
    "name": "ipython",
    "version": 3
   },
   "file_extension": ".py",
   "mimetype": "text/x-python",
   "name": "python",
   "nbconvert_exporter": "python",
   "pygments_lexer": "ipython3",
   "version": "3.8.5"
  }
 },
 "nbformat": 4,
 "nbformat_minor": 4
}
